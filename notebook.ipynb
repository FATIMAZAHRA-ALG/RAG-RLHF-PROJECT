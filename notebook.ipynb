{
 "cells": [
  {
   "cell_type": "markdown",
   "id": "90a75047",
   "metadata": {},
   "source": [
    "# 📘 Systèmes de QA : RAG et RLHF\n",
    "\n",
    "Dans ce notebook, nous présentons **deux techniques distinctes** pour la construction de systèmes de Question-Réponse (QA), chacune étant **indépendante** de l'autre. Elles illustrent deux approches différentes pour produire des réponses pertinentes à partir d’une question posée.\n",
    "\n",
    "\n",
    "\n",
    "🔹 **Première partie – RAG (Retrieval-Augmented Generation)**  \n",
    "Cette première partie introduit l’approche RAG, qui combine la récupération d’informations pertinentes à partir de documents avec la génération de texte.  \n",
    "Le principe consiste à enrichir la réponse à une question en s’appuyant sur des passages extraits dynamiquement d’une source externe.\n",
    "\n",
    "\n",
    "\n",
    "🔹 **Deuxième partie – RLHF (Reinforcement Learning with Human Feedback)**  \n",
    "La deuxième partie explore une autre approche, basée sur l'apprentissage par renforcement guidé par des retours humains.  \n",
    "Elle vise à affiner un modèle de génération pour qu’il produise des réponses plus alignées avec des attentes humaines, en s’appuyant sur des techniques d’optimisation via feedback.\n",
    "\n",
    "\n",
    "\n",
    "✅ Ces deux approches sont traitées **séparément** dans ce notebook. Chacune a son propre pipeline, ses modèles et ses données.\n",
    "\n",
    "➡️ Commençons maintenant par la première approche : **RAG (Retrieval-Augmented Generation)**.\n"
   ]
  },
  {
   "cell_type": "markdown",
   "id": "cd90c11b",
   "metadata": {},
   "source": [
    "# I-La technique RAG\n",
    "## 🔧 Étapes principales du pipeline\n",
    "\n",
    "1. Importation des bibliothèques nécessaires  \n",
    "2. Extraction du texte depuis un fichier PDF  \n",
    "3. Division du texte en paragraphes  \n",
    "4. Création des représentations vectorielles (embeddings) \n",
    "5. Indexation vectorielle \n",
    "6. Recherche des passages pertinents  \n",
    "7. Construction du contexte  \n",
    "8. Génération de la réponse avec un modèle flan-T5-base\n"
   ]
  },
  {
   "cell_type": "markdown",
   "id": "b51957d9",
   "metadata": {},
   "source": [
    "##  1. Importations des bibliothèques\n"
   ]
  },
  {
   "cell_type": "code",
   "execution_count": null,
   "id": "4573c167",
   "metadata": {},
   "outputs": [],
   "source": [
    "import fitz  \n",
    "import re\n",
    "import numpy as np\n",
    "import faiss\n",
    "from sentence_transformers import SentenceTransformer\n",
    "from transformers import pipeline\n"
   ]
  },
  {
   "cell_type": "markdown",
   "id": "0dee100f",
   "metadata": {},
   "source": [
    "##  2. Fonctions de traitement de texte\n",
    "### 🔹 Extraction du texte depuis le PDF\n"
   ]
  },
  {
   "cell_type": "code",
   "execution_count": null,
   "id": "b982fb58",
   "metadata": {},
   "outputs": [],
   "source": [
    "def extract_text_from_pdf(pdf_path):\n",
    "    doc = fitz.open(pdf_path)\n",
    "    text = \"\"\n",
    "    for page in doc:\n",
    "        text += page.get_text()\n",
    "    doc.close()\n",
    "    return text\n"
   ]
  },
  {
   "cell_type": "markdown",
   "id": "2dcaceaa",
   "metadata": {},
   "source": [
    "### 🔹 Découpage du texte en paragraphes\n"
   ]
  },
  {
   "cell_type": "code",
   "execution_count": null,
   "id": "cf99d307",
   "metadata": {},
   "outputs": [],
   "source": [
    "def split_text_into_paragraphs(full_text, max_chars=200):\n",
    "    paragraphs = []\n",
    "    start = 0\n",
    "    while start < len(full_text):\n",
    "        end = start + max_chars\n",
    "        if end < len(full_text):\n",
    "            while end > start and full_text[end] not in [' ', '.', '\\n']:\n",
    "                end -= 1\n",
    "            if end == start:\n",
    "                end = start + max_chars\n",
    "        paragraph = full_text[start:end].strip()\n",
    "        paragraphs.append(paragraph)\n",
    "        start = end\n",
    "    return paragraphs\n"
   ]
  },
  {
   "cell_type": "markdown",
   "id": "aa9d3e81",
   "metadata": {},
   "source": [
    "##  3. Fonctions pour l'encodage et l'indexation\n",
    "### 🔹 Création des vecteurs\n"
   ]
  },
  {
   "cell_type": "code",
   "execution_count": null,
   "id": "c2e91080",
   "metadata": {},
   "outputs": [],
   "source": [
    "def create_embeddings(paragraphs, embedding_model):\n",
    "    return embedding_model.encode(paragraphs)\n"
   ]
  },
  {
   "cell_type": "markdown",
   "id": "8f8bbda0",
   "metadata": {},
   "source": [
    "### 🔹 Création de l’index FAISS\n"
   ]
  },
  {
   "cell_type": "code",
   "execution_count": null,
   "id": "04adb997",
   "metadata": {},
   "outputs": [],
   "source": [
    "def create_faiss_index(embeddings):\n",
    "    embeddings_np = np.array(embeddings).astype('float32')\n",
    "    index = faiss.IndexFlatL2(embeddings_np.shape[1])\n",
    "    index.add(embeddings_np)\n",
    "    return index\n"
   ]
  },
  {
   "cell_type": "markdown",
   "id": "9a351945",
   "metadata": {},
   "source": [
    "### 🔹 Recherche dans l’index\n"
   ]
  },
  {
   "cell_type": "code",
   "execution_count": null,
   "id": "1eec4b8c",
   "metadata": {},
   "outputs": [],
   "source": [
    "def search_faiss_index(query, index, embedding_model, k):\n",
    "    query_embedding = embedding_model.encode([query])[0]\n",
    "    scores, indices = index.search(np.array([query_embedding]).astype('float32'), k)\n",
    "    return indices[0]\n"
   ]
  },
  {
   "cell_type": "markdown",
   "id": "cb1a6ddc",
   "metadata": {},
   "source": [
    "## 4. Génération de la réponse avec un modèle flan-T5-base\n"
   ]
  },
  {
   "cell_type": "code",
   "execution_count": null,
   "id": "e069ca14",
   "metadata": {},
   "outputs": [],
   "source": [
    "def generate_answer(question, context, qa_pipeline):\n",
    "    prompt = (\n",
    "        f\"Réponds à la question suivante en utilisant le contexte fourni.\\n\"\n",
    "        f\"Contexte : {context}\\n\"\n",
    "        f\"Question : {question}\"\n",
    "    )\n",
    "    return qa_pipeline(prompt, max_new_tokens=150, truncation=True)[0]['generated_text']\n"
   ]
  },
  {
   "cell_type": "markdown",
   "id": "eeedd5a2",
   "metadata": {},
   "source": [
    "# 5. Pipeline Principal\n",
    "Voici l’exécution complète du système RAG."
   ]
  },
  {
   "cell_type": "code",
   "execution_count": null,
   "id": "f486e893",
   "metadata": {},
   "outputs": [],
   "source": [
    "# === Pipeline Principal ===\n",
    "if __name__ == \"__main__\":\n",
    "        # 1. Spécifier le chemin vers le fichier PDF\n",
    "    pdf_path = \"C:/Users/fatim/OneDrive/Bureau/RAG_Project/définitions_générales.pdf\"\n",
    "\n",
    "    # 2. Extraction du texte et découpage\n",
    "    full_text = extract_text_from_pdf(pdf_path)\n",
    "    paragraphs = split_text_into_paragraphs(full_text)\n",
    "\n",
    "    # Affichage du nombre de paragraphes extraits\n",
    "    print(f\"Nombre de paragraphes extraits : {len(paragraphs)}\\n\")\n",
    "\n",
    "    # Affichage des premiers paragraphes extraits pour vérification\n",
    "    print(\"Quelques paragraphes extraits :\\n\")\n",
    "    for i, paragraph in enumerate(paragraphs[:5]):  # Afficher les 5 premiers paragraphes\n",
    "        print(f\"Paragraphe {i+1}: {paragraph}\\n\")\n",
    "\n",
    "    # 3. Embedding\n",
    "    embedding_model = SentenceTransformer('all-MiniLM-L6-v2')\n",
    "    embeddings = create_embeddings(paragraphs, embedding_model)\n",
    "\n",
    "    # 4. Indexation\n",
    "    index = create_faiss_index(embeddings)\n",
    "\n",
    "    # 5. Recherche d'information\n",
    "    query = \"C'est quoi l'innovation ?\"\n",
    "    k = 3\n",
    "    relevant_indices = search_faiss_index(query, index, embedding_model, k)\n",
    "    relevant_indices = [int(i) for i in relevant_indices if i >= 0]\n",
    "\n",
    "    print(\"La question posée : \",query)\n",
    "\n",
    "    # Affichage des indices des passages pertinents\n",
    "    print(f\"Indices des passages pertinents : {relevant_indices}\\n\")\n",
    "\n",
    "    # Affichage des passages pertinents\n",
    "    print(\"Passages pertinents extraits :\\n\")\n",
    "    for i in relevant_indices:\n",
    "        print(f\"Passage {i+1}: {paragraphs[i]}\\n\")\n",
    "\n",
    "    # 6. Construction du contexte\n",
    "    context = \"\\n\".join([paragraphs[i] for i in relevant_indices])\n",
    "\n",
    "    # Affichage du contexte\n",
    "    print(f\"Contexte utilisé pour générer la réponse : \\n{context}\\n\")\n",
    "\n",
    "    # 7. Génération de la réponse\n",
    "    qa_pipeline = pipeline(\"text2text-generation\", model=\"google/flan-t5-base\")\n",
    "    answer = generate_answer(query, context, qa_pipeline)\n",
    "\n",
    "    # Affichage de la réponse générée\n",
    "    print(\"\\nRéponse générée :\\n\", answer)\n"
   ]
  },
  {
   "cell_type": "markdown",
   "id": "292a9577",
   "metadata": {},
   "source": [
    "# Resultat de l'exécution du pipeline principal :\n",
    "\n",
    "Nombre de paragraphes extraits : 14\n",
    "\n",
    "Quelques paragraphes extraits :\n",
    "\n",
    "Paragraphe 1: L’intelligence artificielle (IA) est un ensemble de techniques permettant à des machines d’imiter\n",
    "des fonctions cognitives humaines telles que l’apprentissage, le raisonnement, la résolution de\n",
    "\n",
    "Paragraphe 2: problèmes ou la compréhension du langage.\n",
    "L’ADN (acide désoxyribonucléique) est une molécule présente dans toutes les cellules vivantes et qui\n",
    "contient les instructions génétiques nécessaires au\n",
    "\n",
    "Paragraphe 3: développement et au fonctionnement des\n",
    "organismes.\n",
    "Le droit pénal est la branche du droit qui définit les infractions et détermine les peines\n",
    "applicables aux personnes qui les commettent.\n",
    "Le\n",
    "\n",
    "Paragraphe 4: réchauffement climatique désigne l’augmentation progressive des températures moyennes à la\n",
    "surface de la Terre, principalement causée par les activités humaines et les émissions de gaz à\n",
    "effet de\n",
    "\n",
    "Paragraphe 5: serre.\n",
    "La démocratie est un système politique dans lequel le pouvoir est exercé par le peuple, soit\n",
    "directement, soit par l’intermédiaire de représentants élus.\n",
    "Un algorithme est une suite finie\n",
    "\n",
    "La question posée :  C'est quoi l'innovation ?\n",
    "\n",
    "Indices des passages pertinents : [11, 12, 10]\n",
    "\n",
    "Passages pertinents extraits :\n",
    "\n",
    "Passage 12: concepts.\n",
    "L’innovation est l’introduction d’une nouveauté (produit, service, procédé ou organisation) qui\n",
    "apporte une amélioration significative par rapport à l’existant.\n",
    "Une récession est une baisse\n",
    "\n",
    "Passage 13: prolongée de l’activité économique, généralement mesurée par une\n",
    "diminution du PIB pendant au moins deux trimestres consécutifs.\n",
    "Une machine virtuelle est un environnement logiciel qui simule un\n",
    "\n",
    "Passage 11: cyberattaques.\n",
    "L’abstraction en art désigne un style dans lequel les formes, les couleurs et les lignes ne\n",
    "représentent pas directement la réalité, mais expriment des idées, des émotions ou des\n",
    "\n",
    "Contexte utilisé pour générer la réponse :\n",
    "concepts.\n",
    "L’innovation est l’introduction d’une nouveauté (produit, service, procédé ou organisation) qui\n",
    "apporte une amélioration significative par rapport à l’existant.\n",
    "Une récession est une baisse\n",
    "prolongée de l’activité économique, généralement mesurée par une\n",
    "diminution du PIB pendant au moins deux trimestres consécutifs.\n",
    "Une machine virtuelle est un environnement logiciel qui simule un\n",
    "cyberattaques.\n",
    "L’abstraction en art désigne un style dans lequel les formes, les couleurs et les lignes ne\n",
    "représentent pas directement la réalité, mais expriment des idées, des émotions ou des\n",
    "\n",
    "Device set to use cpu\n",
    "\n",
    "Réponse générée :\n",
    " l’introduction d’une nouveauté (produit, service, procédé ou organisation) qui apporte une amélioration significative par rapport à l’existant "
   ]
  },
  {
   "cell_type": "markdown",
   "id": "a1f6e17a",
   "metadata": {},
   "source": [
    "# II- La technique RLHF"
   ]
  },
  {
   "cell_type": "markdown",
   "id": "86a28288",
   "metadata": {},
   "source": [
    "## 🔧 Étapes principales du pipeline\n",
    "1. Importation des bibliothèques nécessaires    \n",
    "2. Génération de la réponse (modèle / politique) \n",
    "3. Évaluation par retour humain (fonction de récompense)\n",
    "4. Boucle d’entraînement (itérations/époques)  "
   ]
  },
  {
   "cell_type": "markdown",
   "id": "d28654bc",
   "metadata": {},
   "source": [
    "##  1. Importations des bibliothèques"
   ]
  },
  {
   "cell_type": "code",
   "execution_count": null,
   "id": "75d03003",
   "metadata": {},
   "outputs": [],
   "source": [
    "import random"
   ]
  },
  {
   "cell_type": "markdown",
   "id": "c750b243",
   "metadata": {},
   "source": [
    "##  2.  Génération de la réponse (modèle / politique) \n"
   ]
  },
  {
   "cell_type": "code",
   "execution_count": null,
   "id": "e3373c8b",
   "metadata": {},
   "outputs": [],
   "source": [
    "def model(input_text):\n",
    "    responses = [\"Bonjour !\", \"Salut !\", \"Je ne sais pas.\", \"Très bien.\"]\n",
    "    return random.choice(responses)"
   ]
  },
  {
   "cell_type": "markdown",
   "id": "de937930",
   "metadata": {},
   "source": [
    "##  3. 👤 Évaluation par retour humain (fonction de récompense)\n"
   ]
  },
  {
   "cell_type": "code",
   "execution_count": null,
   "id": "2613f152",
   "metadata": {},
   "outputs": [],
   "source": [
    "def human_feedback(response):\n",
    "    good_responses = [\"Bonjour !\", \"Très bien.\"]\n",
    "    return 1 if response in good_responses else 0"
   ]
  },
  {
   "cell_type": "markdown",
   "id": "30ed53e3",
   "metadata": {},
   "source": [
    "## 4. 🔄 Boucle d’entraînement (itérations/époques)"
   ]
  },
  {
   "cell_type": "code",
   "execution_count": null,
   "id": "0cf98e3e",
   "metadata": {},
   "outputs": [],
   "source": [
    "def train_model(epochs=10):\n",
    "    for epoch in range(epochs):\n",
    "        input_text = \"Salut\"  \n",
    "        response = model(input_text)\n",
    "        reward = human_feedback(response)\n",
    "        print(f\"Epoch {epoch+1}: Réponse: {response} | Récompense: {reward}\")\n",
    "        \n",
    "\n",
    "train_model()"
   ]
  },
  {
   "cell_type": "markdown",
   "id": "d86ca0ab",
   "metadata": {},
   "source": [
    "# 5. Pipeline Principal\n",
    "Voici l’exécution complète du système RLHF."
   ]
  },
  {
   "cell_type": "code",
   "execution_count": null,
   "id": "e3407547",
   "metadata": {},
   "outputs": [],
   "source": [
    "import random\n",
    "def model(input_text):\n",
    "    responses = [\"Bonjour !\", \"Salut !\", \"Je ne sais pas.\", \"Très bien.\"]\n",
    "    return random.choice(responses)\n",
    "def human_feedback(response):\n",
    "    good_responses = [\"Bonjour !\", \"Très bien.\"]\n",
    "    return 1 if response in good_responses else 0\n",
    "def train_model(epochs=10):\n",
    "    for epoch in range(epochs):\n",
    "        input_text = \"Salut\"  \n",
    "        response = model(input_text)\n",
    "        reward = human_feedback(response)\n",
    "        print(f\"Epoch {epoch+1}: Réponse: {response} | Récompense: {reward}\")\n",
    "        \n",
    "\n",
    "train_model()\n"
   ]
  },
  {
   "cell_type": "markdown",
   "id": "12e78ee2",
   "metadata": {},
   "source": [
    "# 6. Résultats"
   ]
  },
  {
   "cell_type": "code",
   "execution_count": null,
   "id": "99e29dfb",
   "metadata": {},
   "outputs": [],
   "source": [
    "PS C:\\Users\\USER> & \"C:/Program Files/Python311/python.exe\" c:/Users/USER/moncode.py\n",
    "Epoch 1: Réponse: Je ne sais pas. | Récompense: 0\n",
    "Epoch 2: Réponse: Salut ! | Récompense: 0        \n",
    "Epoch 3: Réponse: Salut ! | Récompense: 0        \n",
    "Epoch 4: Réponse: Salut ! | Récompense: 0        \n",
    "Epoch 5: Réponse: Très bien. | Récompense: 1     \n",
    "Epoch 6: Réponse: Bonjour ! | Récompense: 1      \n",
    "Epoch 7: Réponse: Je ne sais pas. | Récompense: 0\n",
    "Epoch 8: Réponse: Salut ! | Récompense: 0        \n",
    "Epoch 9: Réponse: Très bien. | Récompense: 1     \n",
    "Epoch 10: Réponse: Très bien. | Récompense: 1    \n",
    "PS C:\\Users\\USER> "
   ]
  },
  {
   "cell_type": "markdown",
   "id": "e262c30f",
   "metadata": {},
   "source": [
    "Ce code simule de manière simple le principe du RLHF (Reinforcement Learning from Human Feedback) en générant aléatoirement des réponses à une entrée fixe (\"Salut\") à l’aide d’un faux modèle, puis en les évaluant à l’aide d’un retour humain simulé (une fonction qui attribue une récompense de 1 si la réponse est jugée \"bonne\", sinon 0). Lors de chaque itération, le modèle génère une réponse, reçoit un feedback, et affiche la récompense obtenue. Bien que le modèle ne s’améliore pas réellement au fil du temps (aucune mise à jour n’est effectuée), ce code illustre le principe fondamental du RLHF : produire une sortie, recevoir un retour humain, et utiliser ce retour pour guider l’apprentissage."
   ]
  }
 ],
 "metadata": {
  "kernelspec": {
   "display_name": "Python 3",
   "language": "python",
   "name": "python3"
  },
  "language_info": {
   "name": "python",
   "version": "3.13.3"
  }
 },
 "nbformat": 4,
 "nbformat_minor": 5
}
